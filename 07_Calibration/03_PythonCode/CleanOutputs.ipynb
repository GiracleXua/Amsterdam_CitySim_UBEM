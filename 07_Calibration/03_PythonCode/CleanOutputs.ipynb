{
 "cells": [
  {
   "cell_type": "code",
   "execution_count": 1,
   "metadata": {},
   "outputs": [],
   "source": [
    "import os\n",
    "import psycopg2\n",
    "from shutil import copy\n",
    "import csv\n",
    "import time"
   ]
  },
  {
   "cell_type": "code",
   "execution_count": 3,
   "metadata": {},
   "outputs": [],
   "source": [
    "cwd = os.getcwd()\n",
    "conn = psycopg2.connect(\"host=localhost dbname=AMS user=postgres password=ia09\")"
   ]
  },
  {
   "cell_type": "code",
   "execution_count": null,
   "metadata": {},
   "outputs": [],
   "source": [
    "def cleanSimulationResult(tableName, conn):\n",
    "    cur = conn.cursor()\n",
    "    cur.execute(\n",
    "        \"\"\"\n",
    "        SELECT *\n",
    "        FROM '\"\"\" + str(tableName) + \"\"\"'\n",
    "        \"\"\"\n",
    "    )\n",
    "    cur.close()\n",
    "    conn.commit()\n",
    "    \n",
    "    \n",
    "    data = cur.fetchall()\n",
    "    colnames = [desc[0] for desc in cur.description]\n",
    "    retrieved = pd.DataFrame(data, columns=colnames)\n",
    "    cur.close()\n",
    "    conn.commit()\n",
    "\n",
    "    return retrieved\n"
   ]
  }
 ],
 "metadata": {
  "kernelspec": {
   "display_name": "Python 2",
   "language": "python",
   "name": "python2"
  },
  "language_info": {
   "codemirror_mode": {
    "name": "ipython",
    "version": 2
   },
   "file_extension": ".py",
   "mimetype": "text/x-python",
   "name": "python",
   "nbconvert_exporter": "python",
   "pygments_lexer": "ipython2",
   "version": "2.7.14"
  }
 },
 "nbformat": 4,
 "nbformat_minor": 2
}
